{
 "cells": [
  {
   "cell_type": "code",
   "execution_count": 1,
   "metadata": {},
   "outputs": [],
   "source": [
    "import torch\n",
    "from torch.utils.data import Dataset, DataLoader\n",
    "import torch.nn as nn\n",
    "from torchvision import transforms\n",
    "import torch.nn.functional as F\n",
    "from datasets import load_dataset\n",
    "import matplotlib.pyplot as plt\n",
    "import pandas as pd"
   ]
  },
  {
   "cell_type": "markdown",
   "metadata": {},
   "source": [
    "### Check if cuda is available"
   ]
  },
  {
   "cell_type": "code",
   "execution_count": 2,
   "metadata": {},
   "outputs": [
    {
     "data": {
      "text/plain": [
       "True"
      ]
     },
     "execution_count": 2,
     "metadata": {},
     "output_type": "execute_result"
    }
   ],
   "source": [
    "torch.cuda.is_available()"
   ]
  },
  {
   "cell_type": "markdown",
   "metadata": {},
   "source": [
    "### Cifar10 dataset "
   ]
  },
  {
   "cell_type": "code",
   "execution_count": 3,
   "metadata": {},
   "outputs": [
    {
     "name": "stdout",
     "output_type": "stream",
     "text": [
      "(32, 32)\n"
     ]
    }
   ],
   "source": [
    "cifar = load_dataset(\"cifar10\",)\n",
    "i = cifar[\"train\"][\"img\"][0]\n",
    "print(i.size)"
   ]
  },
  {
   "cell_type": "markdown",
   "metadata": {},
   "source": [
    "Images in cifar10 has small size 32 x 32 which is faster for training. Moreover, the dataset has 10 classes and we can see that both train and test datasets are balanced with equal number of smaples per class"
   ]
  },
  {
   "cell_type": "code",
   "execution_count": 4,
   "metadata": {},
   "outputs": [
    {
     "data": {
      "text/html": [
       "<div>\n",
       "<style scoped>\n",
       "    .dataframe tbody tr th:only-of-type {\n",
       "        vertical-align: middle;\n",
       "    }\n",
       "\n",
       "    .dataframe tbody tr th {\n",
       "        vertical-align: top;\n",
       "    }\n",
       "\n",
       "    .dataframe thead th {\n",
       "        text-align: right;\n",
       "    }\n",
       "</style>\n",
       "<table border=\"1\" class=\"dataframe\">\n",
       "  <thead>\n",
       "    <tr style=\"text-align: right;\">\n",
       "      <th></th>\n",
       "      <th>img</th>\n",
       "    </tr>\n",
       "    <tr>\n",
       "      <th>label</th>\n",
       "      <th></th>\n",
       "    </tr>\n",
       "  </thead>\n",
       "  <tbody>\n",
       "    <tr>\n",
       "      <th>0</th>\n",
       "      <td>5000</td>\n",
       "    </tr>\n",
       "    <tr>\n",
       "      <th>1</th>\n",
       "      <td>5000</td>\n",
       "    </tr>\n",
       "    <tr>\n",
       "      <th>2</th>\n",
       "      <td>5000</td>\n",
       "    </tr>\n",
       "    <tr>\n",
       "      <th>3</th>\n",
       "      <td>5000</td>\n",
       "    </tr>\n",
       "    <tr>\n",
       "      <th>4</th>\n",
       "      <td>5000</td>\n",
       "    </tr>\n",
       "    <tr>\n",
       "      <th>5</th>\n",
       "      <td>5000</td>\n",
       "    </tr>\n",
       "    <tr>\n",
       "      <th>6</th>\n",
       "      <td>5000</td>\n",
       "    </tr>\n",
       "    <tr>\n",
       "      <th>7</th>\n",
       "      <td>5000</td>\n",
       "    </tr>\n",
       "    <tr>\n",
       "      <th>8</th>\n",
       "      <td>5000</td>\n",
       "    </tr>\n",
       "    <tr>\n",
       "      <th>9</th>\n",
       "      <td>5000</td>\n",
       "    </tr>\n",
       "  </tbody>\n",
       "</table>\n",
       "</div>"
      ],
      "text/plain": [
       "        img\n",
       "label      \n",
       "0      5000\n",
       "1      5000\n",
       "2      5000\n",
       "3      5000\n",
       "4      5000\n",
       "5      5000\n",
       "6      5000\n",
       "7      5000\n",
       "8      5000\n",
       "9      5000"
      ]
     },
     "execution_count": 4,
     "metadata": {},
     "output_type": "execute_result"
    }
   ],
   "source": [
    "df_train = pd.DataFrame(cifar[\"train\"])\n",
    "df_train.groupby(by=\"label\").count()"
   ]
  },
  {
   "cell_type": "code",
   "execution_count": 5,
   "metadata": {},
   "outputs": [
    {
     "data": {
      "text/html": [
       "<div>\n",
       "<style scoped>\n",
       "    .dataframe tbody tr th:only-of-type {\n",
       "        vertical-align: middle;\n",
       "    }\n",
       "\n",
       "    .dataframe tbody tr th {\n",
       "        vertical-align: top;\n",
       "    }\n",
       "\n",
       "    .dataframe thead th {\n",
       "        text-align: right;\n",
       "    }\n",
       "</style>\n",
       "<table border=\"1\" class=\"dataframe\">\n",
       "  <thead>\n",
       "    <tr style=\"text-align: right;\">\n",
       "      <th></th>\n",
       "      <th>img</th>\n",
       "    </tr>\n",
       "    <tr>\n",
       "      <th>label</th>\n",
       "      <th></th>\n",
       "    </tr>\n",
       "  </thead>\n",
       "  <tbody>\n",
       "    <tr>\n",
       "      <th>0</th>\n",
       "      <td>1000</td>\n",
       "    </tr>\n",
       "    <tr>\n",
       "      <th>1</th>\n",
       "      <td>1000</td>\n",
       "    </tr>\n",
       "    <tr>\n",
       "      <th>2</th>\n",
       "      <td>1000</td>\n",
       "    </tr>\n",
       "    <tr>\n",
       "      <th>3</th>\n",
       "      <td>1000</td>\n",
       "    </tr>\n",
       "    <tr>\n",
       "      <th>4</th>\n",
       "      <td>1000</td>\n",
       "    </tr>\n",
       "    <tr>\n",
       "      <th>5</th>\n",
       "      <td>1000</td>\n",
       "    </tr>\n",
       "    <tr>\n",
       "      <th>6</th>\n",
       "      <td>1000</td>\n",
       "    </tr>\n",
       "    <tr>\n",
       "      <th>7</th>\n",
       "      <td>1000</td>\n",
       "    </tr>\n",
       "    <tr>\n",
       "      <th>8</th>\n",
       "      <td>1000</td>\n",
       "    </tr>\n",
       "    <tr>\n",
       "      <th>9</th>\n",
       "      <td>1000</td>\n",
       "    </tr>\n",
       "  </tbody>\n",
       "</table>\n",
       "</div>"
      ],
      "text/plain": [
       "        img\n",
       "label      \n",
       "0      1000\n",
       "1      1000\n",
       "2      1000\n",
       "3      1000\n",
       "4      1000\n",
       "5      1000\n",
       "6      1000\n",
       "7      1000\n",
       "8      1000\n",
       "9      1000"
      ]
     },
     "execution_count": 5,
     "metadata": {},
     "output_type": "execute_result"
    }
   ],
   "source": [
    "df_test = pd.DataFrame(cifar[\"test\"])\n",
    "df_test.groupby(by=\"label\").count()"
   ]
  },
  {
   "cell_type": "markdown",
   "metadata": {},
   "source": [
    "Names of classes"
   ]
  },
  {
   "cell_type": "code",
   "execution_count": 6,
   "metadata": {},
   "outputs": [
    {
     "name": "stdout",
     "output_type": "stream",
     "text": [
      "['airplane', 'automobile', 'bird', 'cat', 'deer', 'dog', 'frog', 'horse', 'ship', 'truck']\n"
     ]
    }
   ],
   "source": [
    "labels = cifar[\"train\"].features[\"label\"].names\n",
    "label2id, id2label = dict(), dict()\n",
    "for i, label in enumerate(labels):\n",
    "    label2id[label] = str(i)\n",
    "    id2label[str(i)] = label\n",
    "    \n",
    "print(labels)"
   ]
  },
  {
   "cell_type": "markdown",
   "metadata": {},
   "source": [
    "### The Model Architecture"
   ]
  },
  {
   "cell_type": "code",
   "execution_count": 7,
   "metadata": {},
   "outputs": [],
   "source": [
    "class NaturalSceneClassification(nn.Module):\n",
    "    def __init__(self):\n",
    "        super().__init__()\n",
    "        self.network = nn.Sequential(\n",
    "            \n",
    "            nn.Conv2d(3, 32, kernel_size = 3, padding = 1),\n",
    "            nn.ReLU(),\n",
    "            nn.Conv2d(32,64, kernel_size = 3, stride = 1, padding = 1),\n",
    "            nn.ReLU(),\n",
    "            nn.MaxPool2d(2,2),\n",
    "        \n",
    "            nn.Conv2d(64, 128, kernel_size = 3, stride = 1, padding = 1),\n",
    "            nn.ReLU(),\n",
    "            nn.Conv2d(128 ,128, kernel_size = 3, stride = 1, padding = 1),\n",
    "            nn.ReLU(),\n",
    "            nn.MaxPool2d(2,2),\n",
    "            \n",
    "            nn.Conv2d(128, 256, kernel_size = 3, stride = 1, padding = 1),\n",
    "            nn.ReLU(),\n",
    "            nn.Conv2d(256,256, kernel_size = 3, stride = 1, padding = 1),\n",
    "            nn.ReLU(),\n",
    "            nn.MaxPool2d(2,2),\n",
    "            \n",
    "            nn.Flatten(),\n",
    "            nn.Linear(4096,1024),\n",
    "            nn.ReLU(),\n",
    "            nn.Linear(1024, 512),\n",
    "            nn.ReLU(),\n",
    "            nn.Linear(512,10)\n",
    "        )\n",
    "    \n",
    "    def forward(self, xb):\n",
    "        return self.network(xb)"
   ]
  },
  {
   "cell_type": "markdown",
   "metadata": {},
   "source": [
    "### Dataset Class"
   ]
  },
  {
   "cell_type": "code",
   "execution_count": 8,
   "metadata": {},
   "outputs": [],
   "source": [
    "transform = transforms.Compose([\n",
    "    # you can add other transformations in this list\n",
    "     transforms.Resize((32,32)),\n",
    "    transforms.ToTensor()\n",
    "])\n",
    "\n",
    "class Dataset(Dataset):\n",
    "    \n",
    "    # Constructor \n",
    "    def __init__(self, X_data, Y_data, transform=transform):\n",
    "        self.len = len(X_data)\n",
    "        self.x = X_data\n",
    "        self.y = Y_data\n",
    "        self.transform = transform\n",
    "             \n",
    "    # Getter\n",
    "    def __getitem__(self, index):\n",
    "        x = self.x[index] \n",
    "        y = self.y[index]\n",
    "        if self.transform:\n",
    "            x = self.transform(x)     \n",
    "        return x, y\n",
    "    \n",
    "    # Get Length\n",
    "    def __len__(self):\n",
    "        return self.len\n"
   ]
  },
  {
   "cell_type": "markdown",
   "metadata": {},
   "source": [
    "Choosing the Optimizer and the Cost function"
   ]
  },
  {
   "cell_type": "code",
   "execution_count": 14,
   "metadata": {},
   "outputs": [],
   "source": [
    "model = NaturalSceneClassification()\n",
    "model.to(\"cuda:0\")\n",
    "optimizer = torch.optim.Adam(model.parameters(), lr=0.001)\n",
    "loss_new = nn.CrossEntropyLoss()\n",
    "num_epoch = 20\n",
    "batch_size = 256"
   ]
  },
  {
   "cell_type": "markdown",
   "metadata": {},
   "source": [
    "We will also add a validation set with balanced number of samples in each class."
   ]
  },
  {
   "cell_type": "code",
   "execution_count": 11,
   "metadata": {},
   "outputs": [],
   "source": [
    "dataset_val = Dataset( X_data = cifar[\"train\"][\"img\"][0:10000], Y_data = cifar[\"train\"][\"label\"][0:10000])\n",
    "val_loader = DataLoader(dataset=dataset_val, batch_size=batch_size, shuffle=True)\n",
    "dataset_train = Dataset( X_data = cifar[\"train\"][\"img\"][10000:-1], Y_data = cifar[\"train\"][\"label\"][10000:-1])\n",
    "train_loader = DataLoader(dataset=dataset_train, batch_size=batch_size, shuffle=True)\n",
    "dataset_test = Dataset( X_data = cifar[\"test\"][\"img\"], Y_data = cifar[\"test\"][\"label\"])\n",
    "test_loader = DataLoader(dataset=dataset_test, batch_size=batch_size, shuffle=True)"
   ]
  },
  {
   "cell_type": "markdown",
   "metadata": {},
   "source": [
    "Preview an image from the dataset"
   ]
  },
  {
   "cell_type": "code",
   "execution_count": 13,
   "metadata": {},
   "outputs": [
    {
     "name": "stdout",
     "output_type": "stream",
     "text": [
      "Label : 7\n"
     ]
    },
    {
     "data": {
      "image/png": "[encoded data removed]",
      "text/plain": [
       "<Figure size 640x480 with 1 Axes>"
      ]
     },
     "metadata": {},
     "output_type": "display_data"
    }
   ],
   "source": [
    "img,label = dataset_train[10]\n",
    "\n",
    "def display_img(img,label):\n",
    "    print(f\"Label : {label}\")\n",
    "    plt.imshow(img.permute(1,2,0))\n",
    "\n",
    "#display the first image in the dataset\n",
    "display_img(img, label)"
   ]
  },
  {
   "cell_type": "markdown",
   "metadata": {},
   "source": [
    "### Training the model\n",
    "\n",
    "We will compute the training and validation losses. We also added early stopping to avoid over-fitting. \n",
    "If the validation loss is not decreasing, the training will stop after \"patience\" number of epochs."
   ]
  },
  {
   "cell_type": "code",
   "execution_count": 15,
   "metadata": {},
   "outputs": [
    {
     "name": "stdout",
     "output_type": "stream",
     "text": [
      "Train epoch 0 loss: 2.0535 acc 0.2172\n",
      "Valid epoch 0 loss: 1.7123 acc 0.3699 \n",
      "\n",
      "Train epoch 1 loss: 1.5134 acc 0.4400\n",
      "Valid epoch 1 loss: 1.4565 acc 0.4557 \n",
      "\n",
      "Train epoch 2 loss: 1.2562 acc 0.5390\n",
      "Valid epoch 2 loss: 1.2043 acc 0.5628 \n",
      "\n",
      "Train epoch 3 loss: 1.0696 acc 0.6132\n",
      "Valid epoch 3 loss: 1.1274 acc 0.5983 \n",
      "\n",
      "Train epoch 4 loss: 0.9341 acc 0.6663\n",
      "Valid epoch 4 loss: 0.9397 acc 0.6725 \n",
      "\n",
      "Train epoch 5 loss: 0.8173 acc 0.7108\n",
      "Valid epoch 5 loss: 0.8680 acc 0.6979 \n",
      "\n",
      "Train epoch 6 loss: 0.7278 acc 0.7406\n",
      "Valid epoch 6 loss: 0.8683 acc 0.6991 \n",
      "\n",
      "Train epoch 7 loss: 0.6594 acc 0.7651\n",
      "Valid epoch 7 loss: 0.7975 acc 0.7266 \n",
      "\n",
      "Train epoch 8 loss: 0.5770 acc 0.7974\n",
      "Valid epoch 8 loss: 0.7621 acc 0.7385 \n",
      "\n",
      "Train epoch 9 loss: 0.5075 acc 0.8199\n",
      "Valid epoch 9 loss: 0.7420 acc 0.7506 \n",
      "\n",
      "Train epoch 10 loss: 0.4404 acc 0.8446\n",
      "Valid epoch 10 loss: 0.7614 acc 0.7540 \n",
      "\n",
      "Train epoch 11 loss: 0.3881 acc 0.8623\n",
      "Valid epoch 11 loss: 0.8560 acc 0.7506 \n",
      "\n",
      "Train epoch 12 loss: 0.3238 acc 0.8841\n",
      "Valid epoch 12 loss: 0.7700 acc 0.7673 \n",
      "\n"
     ]
    }
   ],
   "source": [
    "def accuracy(outputs, labels):\n",
    "    _, preds = torch.max(outputs, dim=1)\n",
    "    return torch.tensor(torch.sum(preds == labels).item() / len(preds))\n",
    "\n",
    "best_loss = float('inf')\n",
    "#best_model_weights = None\n",
    "patience = 3\n",
    "\n",
    "epoch_train_loss = []\n",
    "epoch_train_acc = []\n",
    "epoch_val_loss = []\n",
    "epoch_val_acc = []\n",
    "\n",
    "for epoch in range(num_epoch):\n",
    "\n",
    "    train_losses = []\n",
    "    train_acc = []\n",
    "\n",
    "    val_losses = []\n",
    "    val_acc = []\n",
    "    val_loss_total = 0\n",
    "    \n",
    "    \n",
    "    \n",
    "    model.train()\n",
    "    for x,y in train_loader:\n",
    "\n",
    "        optimizer.zero_grad()\n",
    "        x = x.to(\"cuda:0\")\n",
    "        y = y.to(\"cuda:0\")\n",
    "        output = model(x)\n",
    "        loss = loss_new(output, y)\n",
    "        acc = accuracy(output, y)\n",
    "        \n",
    "        loss.backward()\n",
    "        optimizer.step()\n",
    "\n",
    "        train_losses.append(loss.item())\n",
    "        train_acc.append(acc.item())\n",
    "        \n",
    "    epoch_train_loss.append(sum(train_losses)/len(train_losses))\n",
    "    epoch_train_acc.append(sum(train_acc)/len(train_acc))\n",
    "    \n",
    "        \n",
    "\n",
    "    print(f\"Train epoch {epoch} loss:\", \"{:.4f}\".format(sum(train_losses)/len(train_losses)), \"acc\", \"{:.4f}\".format(sum(train_acc)/len(train_acc)))\n",
    "    \n",
    "    model.eval()\n",
    "    with torch.no_grad():\n",
    "        for x,y in val_loader:\n",
    "\n",
    "            \n",
    "            x = x.to(\"cuda:0\")\n",
    "            y = y.to(\"cuda:0\")\n",
    "            output = model(x)\n",
    "            loss = loss_new(output, y)\n",
    "            acc = accuracy(output, y)\n",
    "            \n",
    "\n",
    "            val_losses.append(loss.item())\n",
    "            val_acc.append(acc.item())\n",
    "            \n",
    "    epoch_val_loss.append(sum(val_losses)/len(val_losses))\n",
    "    epoch_val_acc.append(sum(val_acc)/len(val_acc))\n",
    "    \n",
    "    \n",
    "    print(f\"Valid epoch {epoch} loss:\", \"{:.4f}\".format(sum(val_losses)/len(val_losses)), \"acc\", \"{:.4f}\".format(sum(val_acc)/len(val_acc)),\"\\n\")\n",
    "    \n",
    "    \n",
    "    # Early stopping\n",
    "    val_loss_total = sum(val_losses)/len(val_losses)\n",
    "    if val_loss_total < best_loss:\n",
    "        best_loss = val_loss_total\n",
    "        patience = 3  # Reset patience counter\n",
    "    else:\n",
    "        patience -= 1\n",
    "        if patience == 0:\n",
    "            break\n",
    "    \n",
    "\n"
   ]
  },
  {
   "cell_type": "markdown",
   "metadata": {},
   "source": [
    "Plot Training vs. Validation loss:\n",
    "\n",
    "This way we can check for overfitting or underfitting"
   ]
  },
  {
   "cell_type": "code",
   "execution_count": 16,
   "metadata": {},
   "outputs": [
    {
     "data": {
      "image/png": "[encoded data removed]",
      "text/plain": [
       "<Figure size 640x480 with 1 Axes>"
      ]
     },
     "metadata": {},
     "output_type": "display_data"
    }
   ],
   "source": [
    "def plot_losses(epoch_train_loss, epoch_val_loss):\n",
    "    \"\"\" Plot the losses in each epoch\"\"\"\n",
    "    plt.plot(epoch_train_loss, '-bx')\n",
    "    plt.plot(epoch_val_loss, '-rx')\n",
    "    plt.xlabel('epoch')\n",
    "    plt.ylabel('loss')\n",
    "    plt.legend(['Training', 'Validation'])\n",
    "    plt.title('Loss vs. No. of epochs');\n",
    "\n",
    "plot_losses(epoch_train_loss,epoch_val_loss)\n"
   ]
  },
  {
   "cell_type": "markdown",
   "metadata": {},
   "source": [
    "Plot Training vs. Validation Accuracy"
   ]
  },
  {
   "cell_type": "code",
   "execution_count": 17,
   "metadata": {},
   "outputs": [
    {
     "data": {
      "image/png": "[encoded data removed]",
      "text/plain": [
       "<Figure size 640x480 with 1 Axes>"
      ]
     },
     "metadata": {},
     "output_type": "display_data"
    }
   ],
   "source": [
    "def plot_accuracy(epoch_train_acc, epoch_val_acc):\n",
    "    \"\"\" Plot the accuracy in each epoch\"\"\"\n",
    "    plt.plot(epoch_train_acc, '-bx')\n",
    "    plt.plot(epoch_val_acc, '-rx')\n",
    "    plt.xlabel('epoch')\n",
    "    plt.ylabel('accuracy')\n",
    "    plt.legend(['Training', 'Validation'])\n",
    "    plt.title('Accuracy vs. No. of epochs');\n",
    "\n",
    "plot_accuracy(epoch_train_acc,epoch_val_acc)\n"
   ]
  },
  {
   "cell_type": "markdown",
   "metadata": {},
   "source": [
    "#### Evaluating the model on the test data"
   ]
  },
  {
   "cell_type": "code",
   "execution_count": 18,
   "metadata": {},
   "outputs": [
    {
     "name": "stdout",
     "output_type": "stream",
     "text": [
      "epoch loss 0.7507351115345955 acc 0.7666015625\n"
     ]
    }
   ],
   "source": [
    "model.eval()\n",
    "with torch.no_grad():\n",
    "    \n",
    "    test_losses = []\n",
    "    test_acc = []\n",
    "    \n",
    "    for x,y in test_loader:\n",
    "        \n",
    "        x = x.to(\"cuda:0\")\n",
    "        y = y.to(\"cuda:0\")\n",
    "        output = model(x)\n",
    "        \n",
    "        loss = loss_new(output, y)\n",
    "        acc = accuracy(output, y)\n",
    "        \n",
    "        test_losses.append(loss.item())\n",
    "        test_acc.append(acc.item())\n",
    "\n",
    "    print(\"epoch loss\", sum(test_losses)/len(test_losses), \"acc\", sum(test_acc)/len(test_acc))"
   ]
  },
  {
   "cell_type": "markdown",
   "metadata": {},
   "source": [
    "Saving the model"
   ]
  },
  {
   "cell_type": "code",
   "execution_count": 19,
   "metadata": {},
   "outputs": [],
   "source": [
    "torch.save(model.state_dict(), 'model.pth')"
   ]
  },
  {
   "cell_type": "code",
   "execution_count": null,
   "metadata": {},
   "outputs": [],
   "source": []
  }
 ],
 "metadata": {
  "kernelspec": {
   "display_name": ".venv",
   "language": "python",
   "name": "python3"
  },
  "language_info": {
   "codemirror_mode": {
    "name": "ipython",
    "version": 3
   },
   "file_extension": ".py",
   "mimetype": "text/x-python",
   "name": "python",
   "nbconvert_exporter": "python",
   "pygments_lexer": "ipython3",
   "version": "3.9.13"
  }
 },
 "nbformat": 4,
 "nbformat_minor": 2
}
