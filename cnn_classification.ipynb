{
 "cells": [
  {
   "cell_type": "code",
   "execution_count": 1,
   "metadata": {},
   "outputs": [],
   "source": [
    "import torch\n",
    "from torch.utils.data import Dataset, DataLoader\n",
    "import torch.nn as nn\n",
    "from torchvision import transforms\n",
    "import torch.nn.functional as F\n",
    "from datasets import load_dataset\n",
    "import matplotlib.pyplot as plt\n",
    "import pandas as pd"
   ]
  },
  {
   "cell_type": "markdown",
   "metadata": {},
   "source": [
    "### Check if cuda is available"
   ]
  },
  {
   "cell_type": "code",
   "execution_count": 2,
   "metadata": {},
   "outputs": [
    {
     "data": {
      "text/plain": [
       "True"
      ]
     },
     "execution_count": 2,
     "metadata": {},
     "output_type": "execute_result"
    }
   ],
   "source": [
    "torch.cuda.is_available()"
   ]
  },
  {
   "cell_type": "markdown",
   "metadata": {},
   "source": [
    "### Cifar10 dataset "
   ]
  },
  {
   "cell_type": "code",
   "execution_count": 3,
   "metadata": {},
   "outputs": [
    {
     "name": "stdout",
     "output_type": "stream",
     "text": [
      "(32, 32)\n"
     ]
    }
   ],
   "source": [
    "cifar = load_dataset(\"cifar10\",)\n",
    "i = cifar[\"train\"][\"img\"][0]\n",
    "print(i.size)"
   ]
  },
  {
   "cell_type": "markdown",
   "metadata": {},
   "source": [
    "Images in cifar10 has small size 32 x 32 which is faster for training. Moreover, the dataset has 10 classes and we can see that both train and test datasets are balanced with equal number of smaples per class"
   ]
  },
  {
   "cell_type": "code",
   "execution_count": null,
   "metadata": {},
   "outputs": [],
   "source": [
    "df_train = pd.DataFrame(cifar[\"train\"])\n",
    "df_train.groupby(by=\"label\").count()"
   ]
  },
  {
   "cell_type": "code",
   "execution_count": null,
   "metadata": {},
   "outputs": [],
   "source": [
    "df_test = pd.DataFrame(cifar[\"test\"])\n",
    "df_test.groupby(by=\"label\").count()"
   ]
  },
  {
   "cell_type": "markdown",
   "metadata": {},
   "source": [
    "Names of classes"
   ]
  },
  {
   "cell_type": "code",
   "execution_count": null,
   "metadata": {},
   "outputs": [],
   "source": [
    "labels = cifar[\"train\"].features[\"label\"].names\n",
    "label2id, id2label = dict(), dict()\n",
    "for i, label in enumerate(labels):\n",
    "    label2id[label] = str(i)\n",
    "    id2label[str(i)] = label\n",
    "    \n",
    "print(labels)"
   ]
  },
  {
   "cell_type": "markdown",
   "metadata": {},
   "source": [
    "### The Model Architecture"
   ]
  },
  {
   "cell_type": "code",
   "execution_count": 4,
   "metadata": {},
   "outputs": [],
   "source": [
    "class NaturalSceneClassification(nn.Module):\n",
    "    def __init__(self):\n",
    "        super().__init__()\n",
    "        self.network = nn.Sequential(\n",
    "            \n",
    "            nn.Conv2d(3, 32, kernel_size = 3, padding = 1),\n",
    "            nn.ReLU(),\n",
    "            nn.Conv2d(32,64, kernel_size = 3, stride = 1, padding = 1),\n",
    "            nn.ReLU(),\n",
    "            nn.MaxPool2d(2,2),\n",
    "        \n",
    "            nn.Conv2d(64, 128, kernel_size = 3, stride = 1, padding = 1),\n",
    "            nn.ReLU(),\n",
    "            nn.Conv2d(128 ,128, kernel_size = 3, stride = 1, padding = 1),\n",
    "            nn.ReLU(),\n",
    "            nn.MaxPool2d(2,2),\n",
    "            \n",
    "            nn.Conv2d(128, 256, kernel_size = 3, stride = 1, padding = 1),\n",
    "            nn.ReLU(),\n",
    "            nn.Conv2d(256,256, kernel_size = 3, stride = 1, padding = 1),\n",
    "            nn.ReLU(),\n",
    "            nn.MaxPool2d(2,2),\n",
    "            \n",
    "            nn.Flatten(),\n",
    "            nn.Linear(4096,1024),\n",
    "            nn.ReLU(),\n",
    "            nn.Linear(1024, 512),\n",
    "            nn.ReLU(),\n",
    "            nn.Linear(512,10)\n",
    "        )\n",
    "    \n",
    "    def forward(self, xb):\n",
    "        return self.network(xb)"
   ]
  },
  {
   "cell_type": "markdown",
   "metadata": {},
   "source": [
    "### Dataset Class"
   ]
  },
  {
   "cell_type": "code",
   "execution_count": 5,
   "metadata": {},
   "outputs": [],
   "source": [
    "transform = transforms.Compose([\n",
    "    # you can add other transformations in this list\n",
    "     transforms.Resize((32,32)),\n",
    "    transforms.ToTensor()\n",
    "])\n",
    "\n",
    "class Dataset(Dataset):\n",
    "    \n",
    "    # Constructor \n",
    "    def __init__(self, X_data, Y_data, transform=transform):\n",
    "        self.len = len(X_data)\n",
    "        self.x = X_data\n",
    "        self.y = Y_data\n",
    "        self.transform = transform\n",
    "             \n",
    "    # Getter\n",
    "    def __getitem__(self, index):\n",
    "        x = self.x[index] \n",
    "        y = self.y[index]\n",
    "        if self.transform:\n",
    "            x = self.transform(x)     \n",
    "        return x, y\n",
    "    \n",
    "    # Get Length\n",
    "    def __len__(self):\n",
    "        return self.len\n"
   ]
  },
  {
   "cell_type": "code",
   "execution_count": null,
   "metadata": {},
   "outputs": [],
   "source": [
    "xx = pd.DataFrame(cifar[\"train\"][10000:-1])\n",
    "xx.groupby(\"label\").count()\n",
    "#yy = pd.DataFrame(cifar[\"train\"])\n",
    "#yy.shape\n"
   ]
  },
  {
   "cell_type": "code",
   "execution_count": 6,
   "metadata": {},
   "outputs": [],
   "source": [
    "dataset_val = Dataset( X_data = cifar[\"train\"][\"img\"][0:10000], Y_data = cifar[\"train\"][\"label\"][0:10000])\n",
    "val_loader = DataLoader(dataset=dataset_val, batch_size=256, shuffle=True)\n",
    "dataset_train = Dataset( X_data = cifar[\"train\"][\"img\"][10000:-1], Y_data = cifar[\"train\"][\"label\"][10000:-1])\n",
    "train_loader = DataLoader(dataset=dataset_train, batch_size=256, shuffle=True)\n",
    "dataset_test = Dataset( X_data = cifar[\"test\"][\"img\"], Y_data = cifar[\"test\"][\"label\"])\n",
    "test_loader = DataLoader(dataset=dataset_test, batch_size=256, shuffle=True)"
   ]
  },
  {
   "cell_type": "markdown",
   "metadata": {},
   "source": [
    "Preview an image from the dataset"
   ]
  },
  {
   "cell_type": "code",
   "execution_count": null,
   "metadata": {},
   "outputs": [],
   "source": [
    "img,label = dataset_train[110]\n",
    "\n",
    "def display_img(img,label):\n",
    "    print(f\"Label : {label}\")\n",
    "    plt.imshow(img.permute(1,2,0))\n",
    "\n",
    "#display the first image in the dataset\n",
    "display_img(img, label)"
   ]
  },
  {
   "cell_type": "markdown",
   "metadata": {},
   "source": [
    "Choosing the Optimizer and the Cost function"
   ]
  },
  {
   "cell_type": "code",
   "execution_count": 7,
   "metadata": {},
   "outputs": [],
   "source": [
    "model = NaturalSceneClassification()\n",
    "model.to(\"cuda:0\")\n",
    "optimizer = torch.optim.Adam(model.parameters(), lr=0.001)\n",
    "loss_new = nn.CrossEntropyLoss()"
   ]
  },
  {
   "cell_type": "markdown",
   "metadata": {},
   "source": [
    "### Training the model"
   ]
  },
  {
   "cell_type": "code",
   "execution_count": 8,
   "metadata": {},
   "outputs": [
    {
     "name": "stdout",
     "output_type": "stream",
     "text": [
      "Train epoch loss 1.8785261060022245 acc 0.2968149707195865\n",
      "Val epoch loss 1.615708166360855 acc 0.41064453125\n",
      "Train epoch loss 1.3972831402614618 acc 0.4872481139602175\n",
      "Val epoch loss 1.3084523588418961 acc 0.5208984375\n",
      "Train epoch loss 1.1251934447865577 acc 0.5916718798837844\n",
      "Val epoch loss 1.1422437489032746 acc 0.59755859375\n",
      "Train epoch loss 0.946656427945301 acc 0.6592569951039211\n",
      "Val epoch loss 1.033232866227627 acc 0.639453125\n",
      "Train epoch loss 0.8257655565905723 acc 0.7028694805825592\n",
      "Val epoch loss 0.8765920847654343 acc 0.69443359375\n",
      "Train epoch loss 0.7033712958833974 acc 0.7484633284769241\n",
      "Val epoch loss 0.8137962117791175 acc 0.7138671875\n",
      "Train epoch loss 0.6147220804812802 acc 0.7828668424278308\n",
      "Val epoch loss 0.7573658101260662 acc 0.73857421875\n",
      "Train epoch loss 0.5258461197090757 acc 0.8158896819801088\n",
      "Val epoch loss 0.7410888463258744 acc 0.7453125\n",
      "Train epoch loss 0.439957067844974 acc 0.8434356359919165\n",
      "Val epoch loss 0.7316354498267174 acc 0.75390625\n",
      "Train epoch loss 0.35781789319530416 acc 0.8753870311816028\n",
      "Val epoch loss 0.7600337579846382 acc 0.76083984375\n",
      "Train epoch loss 0.286490139403161 acc 0.8971342319136213\n",
      "Val epoch loss 0.8287120625376702 acc 0.75869140625\n",
      "Train epoch loss 0.2169915974899462 acc 0.9226664392052183\n",
      "Val epoch loss 0.8585206881165505 acc 0.7650390625\n"
     ]
    }
   ],
   "source": [
    "def accuracy(outputs, labels):\n",
    "    _, preds = torch.max(outputs, dim=1)\n",
    "    return torch.tensor(torch.sum(preds == labels).item() / len(preds))\n",
    "\n",
    "best_loss = float('inf')\n",
    "#best_model_weights = None\n",
    "patience = 3\n",
    "\n",
    "epoch_train_loss = []\n",
    "epoch_train_acc = []\n",
    "epoch_val_loss = []\n",
    "epoch_val_acc = []\n",
    "\n",
    "for epoch in range(15):\n",
    "\n",
    "    train_losses = []\n",
    "    train_acc = []\n",
    "\n",
    "    val_losses = []\n",
    "    val_acc = []\n",
    "    val_loss_total = 0\n",
    "    \n",
    "    \n",
    "    \n",
    "    model.train()\n",
    "    for x,y in train_loader:\n",
    "\n",
    "        optimizer.zero_grad()\n",
    "        x = x.to(\"cuda:0\")\n",
    "        y = y.to(\"cuda:0\")\n",
    "        output = model(x)\n",
    "        loss = loss_new(output, y)\n",
    "        acc = accuracy(output, y)\n",
    "        \n",
    "        loss.backward()\n",
    "        optimizer.step()\n",
    "\n",
    "        train_losses.append(loss.item())\n",
    "        train_acc.append(acc.item())\n",
    "        \n",
    "    epoch_train_loss.append(sum(train_losses)/len(train_losses))\n",
    "    epoch_train_acc.append(sum(train_acc)/len(train_acc))\n",
    "    \n",
    "        \n",
    "\n",
    "    print(\"Train epoch loss\", sum(train_losses)/len(train_losses), \"acc\", sum(train_acc)/len(train_acc))\n",
    "    \n",
    "    model.eval()\n",
    "    with torch.no_grad():\n",
    "        for x,y in val_loader:\n",
    "\n",
    "            \n",
    "            x = x.to(\"cuda:0\")\n",
    "            y = y.to(\"cuda:0\")\n",
    "            output = model(x)\n",
    "            loss = loss_new(output, y)\n",
    "            acc = accuracy(output, y)\n",
    "            \n",
    "\n",
    "            val_losses.append(loss.item())\n",
    "            val_acc.append(acc.item())\n",
    "            \n",
    "    epoch_val_loss.append(sum(val_losses)/len(val_losses))\n",
    "    epoch_val_acc.append(sum(val_acc)/len(val_acc))\n",
    "    \n",
    "    \n",
    "    print(\"Val epoch loss\", sum(val_losses)/len(val_losses), \"acc\", sum(val_acc)/len(val_acc))\n",
    "    \n",
    "    \n",
    "    # Early stopping\n",
    "    val_loss_total = sum(val_losses)/len(val_losses)\n",
    "    if val_loss_total < best_loss:\n",
    "        best_loss = val_loss_total\n",
    "        #best_model_weights = copy.deepcopy(model.state_dict())  # Deep copy here      \n",
    "        patience = 3  # Reset patience counter\n",
    "    else:\n",
    "        patience -= 1\n",
    "        if patience == 0:\n",
    "            break\n",
    "    \n",
    "\n"
   ]
  },
  {
   "cell_type": "markdown",
   "metadata": {},
   "source": [
    "Plot Training vs. Validation loss:\n",
    "\n",
    "This way we can check for overfitting or underfitting"
   ]
  },
  {
   "cell_type": "code",
   "execution_count": 9,
   "metadata": {},
   "outputs": [
    {
     "data": {
      "image/png": "[encoded data removed]",
      "text/plain": [
       "<Figure size 640x480 with 1 Axes>"
      ]
     },
     "metadata": {},
     "output_type": "display_data"
    }
   ],
   "source": [
    "def plot_losses(epoch_train_loss, epoch_val_loss):\n",
    "    \"\"\" Plot the losses in each epoch\"\"\"\n",
    "    plt.plot(epoch_train_loss, '-bx')\n",
    "    plt.plot(epoch_val_loss, '-rx')\n",
    "    plt.xlabel('epoch')\n",
    "    plt.ylabel('loss')\n",
    "    plt.legend(['Training', 'Validation'])\n",
    "    plt.title('Loss vs. No. of epochs');\n",
    "\n",
    "plot_losses(epoch_train_loss,epoch_val_loss)\n"
   ]
  },
  {
   "cell_type": "markdown",
   "metadata": {},
   "source": [
    "Plot Training vs. Validation Accuracy"
   ]
  },
  {
   "cell_type": "code",
   "execution_count": 10,
   "metadata": {},
   "outputs": [
    {
     "data": {
      "image/png": "[encoded data removed]",
      "text/plain": [
       "<Figure size 640x480 with 1 Axes>"
      ]
     },
     "metadata": {},
     "output_type": "display_data"
    }
   ],
   "source": [
    "def plot_accuracy(epoch_train_acc, epoch_val_acc):\n",
    "    \"\"\" Plot the accuracy in each epoch\"\"\"\n",
    "    plt.plot(epoch_train_acc, '-bx')\n",
    "    plt.plot(epoch_val_acc, '-rx')\n",
    "    plt.xlabel('epoch')\n",
    "    plt.ylabel('accuracy')\n",
    "    plt.legend(['Training', 'Validation'])\n",
    "    plt.title('Accuracy vs. No. of epochs');\n",
    "\n",
    "plot_accuracy(epoch_train_acc,epoch_val_acc)\n"
   ]
  },
  {
   "cell_type": "markdown",
   "metadata": {},
   "source": [
    "#### Evaluating the model on the test data"
   ]
  },
  {
   "cell_type": "code",
   "execution_count": 11,
   "metadata": {},
   "outputs": [
    {
     "name": "stdout",
     "output_type": "stream",
     "text": [
      "epoch loss 0.8564269885420799 acc 0.767578125\n"
     ]
    }
   ],
   "source": [
    "model.eval()\n",
    "with torch.no_grad():\n",
    "    \n",
    "    test_losses = []\n",
    "    test_acc = []\n",
    "    \n",
    "    for x,y in test_loader:\n",
    "        \n",
    "        x = x.to(\"cuda:0\")\n",
    "        y = y.to(\"cuda:0\")\n",
    "        output = model(x)\n",
    "        \n",
    "        loss = loss_new(output, y)\n",
    "        acc = accuracy(output, y)\n",
    "        \n",
    "        test_losses.append(loss.item())\n",
    "        test_acc.append(acc.item())\n",
    "\n",
    "    print(\"epoch loss\", sum(test_losses)/len(test_losses), \"acc\", sum(test_acc)/len(test_acc))"
   ]
  },
  {
   "cell_type": "markdown",
   "metadata": {},
   "source": [
    "Saving the model"
   ]
  },
  {
   "cell_type": "code",
   "execution_count": 10,
   "metadata": {},
   "outputs": [],
   "source": [
    "torch.save(model.state_dict(), 'model.pth')"
   ]
  },
  {
   "cell_type": "code",
   "execution_count": null,
   "metadata": {},
   "outputs": [],
   "source": []
  }
 ],
 "metadata": {
  "kernelspec": {
   "display_name": ".venv",
   "language": "python",
   "name": "python3"
  },
  "language_info": {
   "codemirror_mode": {
    "name": "ipython",
    "version": 3
   },
   "file_extension": ".py",
   "mimetype": "text/x-python",
   "name": "python",
   "nbconvert_exporter": "python",
   "pygments_lexer": "ipython3",
   "version": "3.9.13"
  }
 },
 "nbformat": 4,
 "nbformat_minor": 2
}
